{
  "nbformat": 4,
  "nbformat_minor": 0,
  "metadata": {
    "colab": {
      "provenance": [],
      "authorship_tag": "ABX9TyMrtIqCLdPRPWyZNn0iw6Io",
      "include_colab_link": true
    },
    "kernelspec": {
      "name": "python3",
      "display_name": "Python 3"
    },
    "language_info": {
      "name": "python"
    }
  },
  "cells": [
    {
      "cell_type": "markdown",
      "metadata": {
        "id": "view-in-github",
        "colab_type": "text"
      },
      "source": [
        "<a href=\"https://colab.research.google.com/github/Uriel1201/HelloSQL/blob/main/function_df.ipynb\" target=\"_parent\"><img src=\"https://colab.research.google.com/assets/colab-badge.svg\" alt=\"Open In Colab\"/></a>"
      ]
    },
    {
      "cell_type": "code",
      "execution_count": null,
      "metadata": {
        "id": "He2MrphpBhEh"
      },
      "outputs": [],
      "source": [
        "import pandas as pd\n",
        "import numpy as np"
      ]
    },
    {
      "cell_type": "code",
      "source": [
        "def row_num(x):\n",
        "    x_s = pd.Series(x)\n",
        "    row_n = range(1, len(x_s) + 1)\n",
        "    return row_n"
      ],
      "metadata": {
        "id": "_Ixvd4RyB0Fe"
      },
      "execution_count": null,
      "outputs": []
    },
    {
      "cell_type": "code",
      "source": [
        "def desc_row_num(x):\n",
        "    x_s = pd.Series(x)\n",
        "    row_n = range(len(x_s), 0, -1)\n",
        "    return row_n"
      ],
      "metadata": {
        "id": "7Ve91-5uCVm3"
      },
      "execution_count": null,
      "outputs": []
    },
    {
      "cell_type": "code",
      "source": [
        "def main():\n",
        "    data1 = {'hacker_id' : [1,2,3,4],\n",
        "             'name'      : ['John','Jane','Joe','Jim']\n",
        "            }\n",
        "\n",
        "    data2 = {'sub_id'       : [101,102,103,104,105,106,107,108,109],\n",
        "             'hacker_id'    : [1,1,2,2,2,3,3,3,4],\n",
        "             'challenge_id' : [1,1,1,1,2,1,2,2,1],\n",
        "             'score'        : [10,12,11,9,13,9,12,15,0]\n",
        "            }\n",
        "\n",
        "    hackers     = pd.DataFrame(data1)\n",
        "    submissions = pd.DataFrame(data2)\n",
        "    submissions = submissions.sort_values(by = ['hacker_id', 'challenge_id', 'score'])\n",
        "    submissions['score_number'] = submissions.groupby(['hacker_id', 'challenge_id'])['score'].transform(row_num)\n",
        "    submissions['score_rank'] = submissions.groupby(['hacker_id', 'challenge_id'])['score'].transform(desc_row_num)\n",
        "    print(submissions)"
      ],
      "metadata": {
        "id": "kBBROtAoKKUM"
      },
      "execution_count": null,
      "outputs": []
    },
    {
      "cell_type": "code",
      "source": [
        "if __name__ == '__main__':\n",
        "    main()"
      ],
      "metadata": {
        "id": "YQC3-Mfv3sX3",
        "colab": {
          "base_uri": "https://localhost:8080/"
        },
        "outputId": "3ae562db-8f73-40a0-a5d7-d4e150b563f5"
      },
      "execution_count": null,
      "outputs": [
        {
          "output_type": "stream",
          "name": "stdout",
          "text": [
            "   sub_id  hacker_id  challenge_id  score  score_number  score_rank\n",
            "0     101          1             1     10             1           2\n",
            "1     102          1             1     12             2           1\n",
            "3     104          2             1      9             1           2\n",
            "2     103          2             1     11             2           1\n",
            "4     105          2             2     13             1           1\n",
            "5     106          3             1      9             1           1\n",
            "6     107          3             2     12             1           2\n",
            "7     108          3             2     15             2           1\n",
            "8     109          4             1      0             1           1\n"
          ]
        }
      ]
    }
  ]
}